{
 "cells": [
  {
   "cell_type": "markdown",
   "id": "c51cd545",
   "metadata": {},
   "source": [
    "### Analyze data with Holidays"
   ]
  },
  {
   "cell_type": "markdown",
   "id": "279b4909",
   "metadata": {},
   "source": [
    "Use an instance of CustomBusinessDays"
   ]
  },
  {
   "cell_type": "code",
   "execution_count": 26,
   "id": "0c287ff7",
   "metadata": {},
   "outputs": [
    {
     "data": {
      "text/html": [
       "<div>\n",
       "<style scoped>\n",
       "    .dataframe tbody tr th:only-of-type {\n",
       "        vertical-align: middle;\n",
       "    }\n",
       "\n",
       "    .dataframe tbody tr th {\n",
       "        vertical-align: top;\n",
       "    }\n",
       "\n",
       "    .dataframe thead th {\n",
       "        text-align: right;\n",
       "    }\n",
       "</style>\n",
       "<table border=\"1\" class=\"dataframe\">\n",
       "  <thead>\n",
       "    <tr style=\"text-align: right;\">\n",
       "      <th></th>\n",
       "      <th>Date</th>\n",
       "      <th>Open</th>\n",
       "      <th>High</th>\n",
       "      <th>Low</th>\n",
       "      <th>Close</th>\n",
       "      <th>Volume</th>\n",
       "    </tr>\n",
       "  </thead>\n",
       "  <tbody>\n",
       "    <tr>\n",
       "      <th>0</th>\n",
       "      <td>3-Jul-17</td>\n",
       "      <td>144.88</td>\n",
       "      <td>145.30</td>\n",
       "      <td>143.10</td>\n",
       "      <td>143.50</td>\n",
       "      <td>14277848</td>\n",
       "    </tr>\n",
       "    <tr>\n",
       "      <th>1</th>\n",
       "      <td>5-Jul-17</td>\n",
       "      <td>143.69</td>\n",
       "      <td>144.79</td>\n",
       "      <td>142.72</td>\n",
       "      <td>144.09</td>\n",
       "      <td>21569557</td>\n",
       "    </tr>\n",
       "    <tr>\n",
       "      <th>2</th>\n",
       "      <td>6-Jul-17</td>\n",
       "      <td>143.02</td>\n",
       "      <td>143.50</td>\n",
       "      <td>142.41</td>\n",
       "      <td>142.73</td>\n",
       "      <td>24128782</td>\n",
       "    </tr>\n",
       "    <tr>\n",
       "      <th>3</th>\n",
       "      <td>7-Jul-17</td>\n",
       "      <td>142.90</td>\n",
       "      <td>144.75</td>\n",
       "      <td>142.90</td>\n",
       "      <td>144.18</td>\n",
       "      <td>19201712</td>\n",
       "    </tr>\n",
       "    <tr>\n",
       "      <th>4</th>\n",
       "      <td>10-Jul-17</td>\n",
       "      <td>144.11</td>\n",
       "      <td>145.95</td>\n",
       "      <td>143.37</td>\n",
       "      <td>145.06</td>\n",
       "      <td>21090636</td>\n",
       "    </tr>\n",
       "  </tbody>\n",
       "</table>\n",
       "</div>"
      ],
      "text/plain": [
       "        Date    Open    High     Low   Close    Volume\n",
       "0   3-Jul-17  144.88  145.30  143.10  143.50  14277848\n",
       "1   5-Jul-17  143.69  144.79  142.72  144.09  21569557\n",
       "2   6-Jul-17  143.02  143.50  142.41  142.73  24128782\n",
       "3   7-Jul-17  142.90  144.75  142.90  144.18  19201712\n",
       "4  10-Jul-17  144.11  145.95  143.37  145.06  21090636"
      ]
     },
     "execution_count": 26,
     "metadata": {},
     "output_type": "execute_result"
    }
   ],
   "source": [
    "import pandas as pd\n",
    "\n",
    "df = pd.read_csv(\"aapl_holiday.csv\")\n",
    "df.head(5)"
   ]
  },
  {
   "cell_type": "code",
   "execution_count": 29,
   "id": "84d32f59-3326-4d87-8fdb-4f3340002c53",
   "metadata": {},
   "outputs": [
    {
     "data": {
      "text/plain": [
       "DatetimeIndex(['2017-07-03', '2017-07-04', '2017-07-05', '2017-07-06',\n",
       "               '2017-07-07', '2017-07-10', '2017-07-11', '2017-07-12',\n",
       "               '2017-07-13', '2017-07-14', '2017-07-17', '2017-07-18',\n",
       "               '2017-07-19', '2017-07-20', '2017-07-21'],\n",
       "              dtype='datetime64[ns]', freq='B')"
      ]
     },
     "execution_count": 29,
     "metadata": {},
     "output_type": "execute_result"
    }
   ],
   "source": [
    "# the problem is July 4, 2017 is a Holiday in US\n",
    "\n",
    "rng = pd.date_range(start=\"7/1/2017\", end=\"7/21/2017\", freq='B')\n",
    "rng"
   ]
  },
  {
   "cell_type": "code",
   "execution_count": 30,
   "id": "d2d093ab-1f6b-4511-b38d-550102aa7c89",
   "metadata": {},
   "outputs": [
    {
     "data": {
      "text/plain": [
       "DatetimeIndex(['2017-07-03', '2017-07-05', '2017-07-06', '2017-07-07',\n",
       "               '2017-07-10', '2017-07-11', '2017-07-12', '2017-07-13',\n",
       "               '2017-07-14', '2017-07-17', '2017-07-18', '2017-07-19',\n",
       "               '2017-07-20', '2017-07-21'],\n",
       "              dtype='datetime64[ns]', freq='C')"
      ]
     },
     "execution_count": 30,
     "metadata": {},
     "output_type": "execute_result"
    }
   ],
   "source": [
    "# for solving the problem of US Holiday\n",
    "\n",
    "from pandas.tseries.holiday import USFederalHolidayCalendar\n",
    "from pandas.tseries.offsets import CustomBusinessDay\n",
    "\n",
    "us_calendar = CustomBusinessDay(calendar = USFederalHolidayCalendar())\n",
    "\n",
    "# replace the freq with the custom calendar (us_calendar)\n",
    "\n",
    "rng = pd.date_range(start=\"7/1/2017\", end=\"7/21/2017\", freq=us_calendar)\n",
    "rng"
   ]
  },
  {
   "cell_type": "code",
   "execution_count": 31,
   "id": "a61331a5-e141-4687-b4c4-0aa62e6a337c",
   "metadata": {},
   "outputs": [
    {
     "data": {
      "text/html": [
       "<div>\n",
       "<style scoped>\n",
       "    .dataframe tbody tr th:only-of-type {\n",
       "        vertical-align: middle;\n",
       "    }\n",
       "\n",
       "    .dataframe tbody tr th {\n",
       "        vertical-align: top;\n",
       "    }\n",
       "\n",
       "    .dataframe thead th {\n",
       "        text-align: right;\n",
       "    }\n",
       "</style>\n",
       "<table border=\"1\" class=\"dataframe\">\n",
       "  <thead>\n",
       "    <tr style=\"text-align: right;\">\n",
       "      <th></th>\n",
       "      <th>Date</th>\n",
       "      <th>Open</th>\n",
       "      <th>High</th>\n",
       "      <th>Low</th>\n",
       "      <th>Close</th>\n",
       "      <th>Volume</th>\n",
       "    </tr>\n",
       "  </thead>\n",
       "  <tbody>\n",
       "    <tr>\n",
       "      <th>2017-07-03</th>\n",
       "      <td>3-Jul-17</td>\n",
       "      <td>144.88</td>\n",
       "      <td>145.30</td>\n",
       "      <td>143.10</td>\n",
       "      <td>143.50</td>\n",
       "      <td>14277848</td>\n",
       "    </tr>\n",
       "    <tr>\n",
       "      <th>2017-07-05</th>\n",
       "      <td>5-Jul-17</td>\n",
       "      <td>143.69</td>\n",
       "      <td>144.79</td>\n",
       "      <td>142.72</td>\n",
       "      <td>144.09</td>\n",
       "      <td>21569557</td>\n",
       "    </tr>\n",
       "    <tr>\n",
       "      <th>2017-07-06</th>\n",
       "      <td>6-Jul-17</td>\n",
       "      <td>143.02</td>\n",
       "      <td>143.50</td>\n",
       "      <td>142.41</td>\n",
       "      <td>142.73</td>\n",
       "      <td>24128782</td>\n",
       "    </tr>\n",
       "    <tr>\n",
       "      <th>2017-07-07</th>\n",
       "      <td>7-Jul-17</td>\n",
       "      <td>142.90</td>\n",
       "      <td>144.75</td>\n",
       "      <td>142.90</td>\n",
       "      <td>144.18</td>\n",
       "      <td>19201712</td>\n",
       "    </tr>\n",
       "    <tr>\n",
       "      <th>2017-07-10</th>\n",
       "      <td>10-Jul-17</td>\n",
       "      <td>144.11</td>\n",
       "      <td>145.95</td>\n",
       "      <td>143.37</td>\n",
       "      <td>145.06</td>\n",
       "      <td>21090636</td>\n",
       "    </tr>\n",
       "  </tbody>\n",
       "</table>\n",
       "</div>"
      ],
      "text/plain": [
       "                 Date    Open    High     Low   Close    Volume\n",
       "2017-07-03   3-Jul-17  144.88  145.30  143.10  143.50  14277848\n",
       "2017-07-05   5-Jul-17  143.69  144.79  142.72  144.09  21569557\n",
       "2017-07-06   6-Jul-17  143.02  143.50  142.41  142.73  24128782\n",
       "2017-07-07   7-Jul-17  142.90  144.75  142.90  144.18  19201712\n",
       "2017-07-10  10-Jul-17  144.11  145.95  143.37  145.06  21090636"
      ]
     },
     "execution_count": 31,
     "metadata": {},
     "output_type": "execute_result"
    }
   ],
   "source": [
    "df.set_index(rng,inplace=True)\n",
    "df.head()"
   ]
  },
  {
   "cell_type": "code",
   "execution_count": 32,
   "id": "740241fe-caf3-4053-911e-cf0294f0f6c7",
   "metadata": {},
   "outputs": [
    {
     "data": {
      "text/plain": [
       "DatetimeIndex(['2017-10-02', '2017-10-03', '2017-10-05', '2017-10-06',\n",
       "               '2017-10-09', '2017-10-10', '2017-10-11', '2017-10-12',\n",
       "               '2017-10-13', '2017-10-16', '2017-10-17', '2017-10-18',\n",
       "               '2017-10-19', '2017-10-20', '2017-10-23', '2017-10-24',\n",
       "               '2017-10-25', '2017-10-26', '2017-10-27', '2017-10-30',\n",
       "               '2017-10-31'],\n",
       "              dtype='datetime64[ns]', freq='C')"
      ]
     },
     "execution_count": 32,
     "metadata": {},
     "output_type": "execute_result"
    }
   ],
   "source": [
    "# for custom calendar; weekends are not included\n",
    "\n",
    "from pandas.tseries.holiday import AbstractHolidayCalendar, nearest_workday, Holiday\n",
    "\n",
    "class myCustomCalendar(AbstractHolidayCalendar):\n",
    "    rules = [\n",
    "        Holiday(\"Sir Mike's Birthday\", month=10, day=4)\n",
    "    ]\n",
    "sir_mike_bday = CustomBusinessDay(calendar=myCustomCalendar())\n",
    "\n",
    "pd.date_range('10/1/2017', '10/31/2017', freq=sir_mike_bday)"
   ]
  },
  {
   "cell_type": "code",
   "execution_count": 39,
   "id": "4e08027e-f911-4002-884c-c9c7c386626f",
   "metadata": {},
   "outputs": [
    {
     "data": {
      "text/plain": [
       "DatetimeIndex(['2017-07-02', '2017-07-03', '2017-07-04', '2017-07-05',\n",
       "               '2017-07-06', '2017-07-09', '2017-07-10', '2017-07-11',\n",
       "               '2017-07-12', '2017-07-13', '2017-07-16', '2017-07-17',\n",
       "               '2017-07-18', '2017-07-19', '2017-07-20', '2017-07-23',\n",
       "               '2017-07-24', '2017-07-25', '2017-07-26', '2017-07-27'],\n",
       "              dtype='datetime64[ns]', freq='C')"
      ]
     },
     "execution_count": 39,
     "metadata": {},
     "output_type": "execute_result"
    }
   ],
   "source": [
    "# custom weekdays/weekends/business day\n",
    "# use weekmask to create own weekdays\n",
    "\n",
    "#new weekdays are from Sun to Thu\n",
    "tanauan_weekdays = \"Sun Mon Tue Wed Thu\"\n",
    "\n",
    "# accepts weekmask = saudi_weekdays\n",
    "s = CustomBusinessDay(weekmask=saudi_weekdays)\n",
    "\n",
    "# new date range; freq is the custom business day\n",
    "pd.date_range(start=\"7/1/2017\", periods=20, freq=s)"
   ]
  },
  {
   "cell_type": "code",
   "execution_count": 40,
   "id": "21899d50-c0b0-4d6b-9f87-804802d0ea62",
   "metadata": {},
   "outputs": [
    {
     "data": {
      "text/plain": [
       "DatetimeIndex(['2017-07-02', '2017-07-03', '2017-07-04', '2017-07-05',\n",
       "               '2017-07-06', '2017-07-09', '2017-07-10', '2017-07-11',\n",
       "               '2017-07-12', '2017-07-13', '2017-07-16', '2017-07-17',\n",
       "               '2017-07-18', '2017-07-19', '2017-07-20', '2017-07-23',\n",
       "               '2017-07-26', '2017-07-27', '2017-07-30', '2017-07-31',\n",
       "               '2017-08-01', '2017-08-02', '2017-08-03', '2017-08-06',\n",
       "               '2017-08-07'],\n",
       "              dtype='datetime64[ns]', freq='C')"
      ]
     },
     "execution_count": 40,
     "metadata": {},
     "output_type": "execute_result"
    }
   ],
   "source": [
    "# holidays must be a list; must be in a square bracket\n",
    "\n",
    "t = CustomBusinessDay(holidays=['2017-07-24', '2017-07-25'], weekmask=tanauan_weekdays)\n",
    "\n",
    "pd.date_range(start=\"7/1/2017\", periods=25, freq=t)"
   ]
  }
 ],
 "metadata": {
  "kernelspec": {
   "display_name": "Python 3 (ipykernel)",
   "language": "python",
   "name": "python3"
  },
  "language_info": {
   "codemirror_mode": {
    "name": "ipython",
    "version": 3
   },
   "file_extension": ".py",
   "mimetype": "text/x-python",
   "name": "python",
   "nbconvert_exporter": "python",
   "pygments_lexer": "ipython3",
   "version": "3.9.13"
  }
 },
 "nbformat": 4,
 "nbformat_minor": 5
}
