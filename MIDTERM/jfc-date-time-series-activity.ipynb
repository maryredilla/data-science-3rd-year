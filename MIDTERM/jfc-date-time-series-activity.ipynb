{
 "cells": [
  {
   "cell_type": "markdown",
   "id": "471d61a8-04dc-463d-967b-26e299eb9de3",
   "metadata": {},
   "source": [
    "### Time Series Activity 1\n",
    "#### JFC Dataset\n",
    "\n",
    "Mary Rose N. Redilla     BSCS 3A"
   ]
  },
  {
   "cell_type": "code",
   "execution_count": 1,
   "id": "7a3d2846-0637-46b3-adbd-10df0b5a6094",
   "metadata": {},
   "outputs": [
    {
     "data": {
      "text/html": [
       "<div>\n",
       "<style scoped>\n",
       "    .dataframe tbody tr th:only-of-type {\n",
       "        vertical-align: middle;\n",
       "    }\n",
       "\n",
       "    .dataframe tbody tr th {\n",
       "        vertical-align: top;\n",
       "    }\n",
       "\n",
       "    .dataframe thead th {\n",
       "        text-align: right;\n",
       "    }\n",
       "</style>\n",
       "<table border=\"1\" class=\"dataframe\">\n",
       "  <thead>\n",
       "    <tr style=\"text-align: right;\">\n",
       "      <th></th>\n",
       "      <th>Open</th>\n",
       "      <th>High</th>\n",
       "      <th>Low</th>\n",
       "      <th>Close</th>\n",
       "      <th>Volume</th>\n",
       "    </tr>\n",
       "  </thead>\n",
       "  <tbody>\n",
       "    <tr>\n",
       "      <th>0</th>\n",
       "      <td>235.8</td>\n",
       "      <td>249.4</td>\n",
       "      <td>235.8</td>\n",
       "      <td>242.0</td>\n",
       "      <td>2,444,310</td>\n",
       "    </tr>\n",
       "    <tr>\n",
       "      <th>1</th>\n",
       "      <td>235.0</td>\n",
       "      <td>236.6</td>\n",
       "      <td>234.6</td>\n",
       "      <td>235.8</td>\n",
       "      <td>1,153,270</td>\n",
       "    </tr>\n",
       "    <tr>\n",
       "      <th>2</th>\n",
       "      <td>234.0</td>\n",
       "      <td>235.2</td>\n",
       "      <td>233.6</td>\n",
       "      <td>235.0</td>\n",
       "      <td>611,860</td>\n",
       "    </tr>\n",
       "    <tr>\n",
       "      <th>3</th>\n",
       "      <td>231.2</td>\n",
       "      <td>235.2</td>\n",
       "      <td>231.2</td>\n",
       "      <td>233.2</td>\n",
       "      <td>578,730</td>\n",
       "    </tr>\n",
       "    <tr>\n",
       "      <th>4</th>\n",
       "      <td>235.8</td>\n",
       "      <td>235.8</td>\n",
       "      <td>231.8</td>\n",
       "      <td>235.0</td>\n",
       "      <td>752,550</td>\n",
       "    </tr>\n",
       "  </tbody>\n",
       "</table>\n",
       "</div>"
      ],
      "text/plain": [
       "    Open   High    Low  Close     Volume\n",
       "0  235.8  249.4  235.8  242.0  2,444,310\n",
       "1  235.0  236.6  234.6  235.8  1,153,270\n",
       "2  234.0  235.2  233.6  235.0    611,860\n",
       "3  231.2  235.2  231.2  233.2    578,730\n",
       "4  235.8  235.8  231.8  235.0    752,550"
      ]
     },
     "execution_count": 1,
     "metadata": {},
     "output_type": "execute_result"
    }
   ],
   "source": [
    "# the record is from Feb 1 to Jun 30 2016\n",
    "\n",
    "import pandas as pd\n",
    "\n",
    "df = pd.read_csv(\"jfc_nodates.csv\")\n",
    "df.head()"
   ]
  },
  {
   "cell_type": "code",
   "execution_count": 2,
   "id": "1467c942-b314-42cb-9a43-5d67010f99f8",
   "metadata": {},
   "outputs": [
    {
     "data": {
      "text/html": [
       "<div>\n",
       "<style scoped>\n",
       "    .dataframe tbody tr th:only-of-type {\n",
       "        vertical-align: middle;\n",
       "    }\n",
       "\n",
       "    .dataframe tbody tr th {\n",
       "        vertical-align: top;\n",
       "    }\n",
       "\n",
       "    .dataframe thead th {\n",
       "        text-align: right;\n",
       "    }\n",
       "</style>\n",
       "<table border=\"1\" class=\"dataframe\">\n",
       "  <thead>\n",
       "    <tr style=\"text-align: right;\">\n",
       "      <th></th>\n",
       "      <th>Open</th>\n",
       "      <th>High</th>\n",
       "      <th>Low</th>\n",
       "      <th>Close</th>\n",
       "      <th>Volume</th>\n",
       "    </tr>\n",
       "  </thead>\n",
       "  <tbody>\n",
       "    <tr>\n",
       "      <th>103</th>\n",
       "      <td>207.0</td>\n",
       "      <td>209.8</td>\n",
       "      <td>205.6</td>\n",
       "      <td>207.8</td>\n",
       "      <td>1,911,460</td>\n",
       "    </tr>\n",
       "    <tr>\n",
       "      <th>102</th>\n",
       "      <td>207.8</td>\n",
       "      <td>208.0</td>\n",
       "      <td>206.8</td>\n",
       "      <td>207.0</td>\n",
       "      <td>795,570</td>\n",
       "    </tr>\n",
       "    <tr>\n",
       "      <th>101</th>\n",
       "      <td>204.0</td>\n",
       "      <td>206.8</td>\n",
       "      <td>201.0</td>\n",
       "      <td>206.4</td>\n",
       "      <td>1,085,110</td>\n",
       "    </tr>\n",
       "    <tr>\n",
       "      <th>100</th>\n",
       "      <td>206.4</td>\n",
       "      <td>207.8</td>\n",
       "      <td>205.0</td>\n",
       "      <td>207.0</td>\n",
       "      <td>977,580</td>\n",
       "    </tr>\n",
       "    <tr>\n",
       "      <th>99</th>\n",
       "      <td>208.0</td>\n",
       "      <td>217.4</td>\n",
       "      <td>207.2</td>\n",
       "      <td>214.6</td>\n",
       "      <td>1,519,180</td>\n",
       "    </tr>\n",
       "    <tr>\n",
       "      <th>...</th>\n",
       "      <td>...</td>\n",
       "      <td>...</td>\n",
       "      <td>...</td>\n",
       "      <td>...</td>\n",
       "      <td>...</td>\n",
       "    </tr>\n",
       "    <tr>\n",
       "      <th>4</th>\n",
       "      <td>235.8</td>\n",
       "      <td>235.8</td>\n",
       "      <td>231.8</td>\n",
       "      <td>235.0</td>\n",
       "      <td>752,550</td>\n",
       "    </tr>\n",
       "    <tr>\n",
       "      <th>3</th>\n",
       "      <td>231.2</td>\n",
       "      <td>235.2</td>\n",
       "      <td>231.2</td>\n",
       "      <td>233.2</td>\n",
       "      <td>578,730</td>\n",
       "    </tr>\n",
       "    <tr>\n",
       "      <th>2</th>\n",
       "      <td>234.0</td>\n",
       "      <td>235.2</td>\n",
       "      <td>233.6</td>\n",
       "      <td>235.0</td>\n",
       "      <td>611,860</td>\n",
       "    </tr>\n",
       "    <tr>\n",
       "      <th>1</th>\n",
       "      <td>235.0</td>\n",
       "      <td>236.6</td>\n",
       "      <td>234.6</td>\n",
       "      <td>235.8</td>\n",
       "      <td>1,153,270</td>\n",
       "    </tr>\n",
       "    <tr>\n",
       "      <th>0</th>\n",
       "      <td>235.8</td>\n",
       "      <td>249.4</td>\n",
       "      <td>235.8</td>\n",
       "      <td>242.0</td>\n",
       "      <td>2,444,310</td>\n",
       "    </tr>\n",
       "  </tbody>\n",
       "</table>\n",
       "<p>104 rows × 5 columns</p>\n",
       "</div>"
      ],
      "text/plain": [
       "      Open   High    Low  Close     Volume\n",
       "103  207.0  209.8  205.6  207.8  1,911,460\n",
       "102  207.8  208.0  206.8  207.0    795,570\n",
       "101  204.0  206.8  201.0  206.4  1,085,110\n",
       "100  206.4  207.8  205.0  207.0    977,580\n",
       "99   208.0  217.4  207.2  214.6  1,519,180\n",
       "..     ...    ...    ...    ...        ...\n",
       "4    235.8  235.8  231.8  235.0    752,550\n",
       "3    231.2  235.2  231.2  233.2    578,730\n",
       "2    234.0  235.2  233.6  235.0    611,860\n",
       "1    235.0  236.6  234.6  235.8  1,153,270\n",
       "0    235.8  249.4  235.8  242.0  2,444,310\n",
       "\n",
       "[104 rows x 5 columns]"
      ]
     },
     "execution_count": 2,
     "metadata": {},
     "output_type": "execute_result"
    }
   ],
   "source": [
    "df = df.iloc[::-1]\n",
    "df"
   ]
  },
  {
   "cell_type": "code",
   "execution_count": 3,
   "id": "5ff62f7e-b680-4b66-9eae-6550b35d17a5",
   "metadata": {},
   "outputs": [
    {
     "data": {
      "text/plain": [
       "DatetimeIndex(['2016-02-01', '2016-02-02', '2016-02-03', '2016-02-04',\n",
       "               '2016-02-05', '2016-02-08', '2016-02-09', '2016-02-10',\n",
       "               '2016-02-11', '2016-02-12',\n",
       "               ...\n",
       "               '2016-06-10', '2016-06-13', '2016-06-14', '2016-06-15',\n",
       "               '2016-06-16', '2016-06-17', '2016-06-20', '2016-06-21',\n",
       "               '2016-06-22', '2016-06-23'],\n",
       "              dtype='datetime64[ns]', length=104, freq='B')"
      ]
     },
     "execution_count": 3,
     "metadata": {},
     "output_type": "execute_result"
    }
   ],
   "source": [
    "# sets the range starting from Feb 1, 2016 to see the number of days that don't have trades\n",
    "\n",
    "rng = pd.date_range(start='2016-02-01', periods=104, freq='B')\n",
    "df.index = rng\n",
    "rng"
   ]
  },
  {
   "cell_type": "code",
   "execution_count": 4,
   "id": "93fafdcf-bd8a-4c77-99f2-7b58d6887482",
   "metadata": {},
   "outputs": [
    {
     "data": {
      "text/plain": [
       "DatetimeIndex(['2016-02-01 00:00:00+08:00', '2016-02-02 00:00:00+08:00',\n",
       "               '2016-02-03 00:00:00+08:00', '2016-02-04 00:00:00+08:00',\n",
       "               '2016-02-05 00:00:00+08:00', '2016-02-08 00:00:00+08:00',\n",
       "               '2016-02-09 00:00:00+08:00', '2016-02-10 00:00:00+08:00',\n",
       "               '2016-02-11 00:00:00+08:00', '2016-02-12 00:00:00+08:00',\n",
       "               ...\n",
       "               '2016-06-10 00:00:00+08:00', '2016-06-13 00:00:00+08:00',\n",
       "               '2016-06-14 00:00:00+08:00', '2016-06-15 00:00:00+08:00',\n",
       "               '2016-06-16 00:00:00+08:00', '2016-06-17 00:00:00+08:00',\n",
       "               '2016-06-20 00:00:00+08:00', '2016-06-21 00:00:00+08:00',\n",
       "               '2016-06-22 00:00:00+08:00', '2016-06-23 00:00:00+08:00'],\n",
       "              dtype='datetime64[ns, Asia/Manila]', length=104, freq=None)"
      ]
     },
     "execution_count": 4,
     "metadata": {},
     "output_type": "execute_result"
    }
   ],
   "source": [
    "# localizing the dataset\n",
    "\n",
    "df.index = df.index.tz_localize(tz=\"Asia/Manila\")\n",
    "df.index"
   ]
  },
  {
   "cell_type": "code",
   "execution_count": 5,
   "id": "9a2fa491-65af-4b82-85ab-f8159b6b0779",
   "metadata": {},
   "outputs": [
    {
     "data": {
      "text/plain": [
       "DatetimeIndex(['2016-02-01', '2016-02-02', '2016-02-03', '2016-02-04',\n",
       "               '2016-02-05', '2016-02-08', '2016-02-09', '2016-02-10',\n",
       "               '2016-02-11', '2016-02-12',\n",
       "               ...\n",
       "               '2016-06-17', '2016-06-20', '2016-06-21', '2016-06-22',\n",
       "               '2016-06-23', '2016-06-24', '2016-06-27', '2016-06-28',\n",
       "               '2016-06-29', '2016-06-30'],\n",
       "              dtype='datetime64[ns]', length=104, freq='C')"
      ]
     },
     "execution_count": 5,
     "metadata": {},
     "output_type": "execute_result"
    }
   ],
   "source": [
    "# custom business day calendar excluding PH holidays\n",
    "\n",
    "from pandas.tseries.offsets import CustomBusinessDay\n",
    "from pandas.tseries.holiday import AbstractHolidayCalendar, nearest_workday, Holiday\n",
    "\n",
    "class myCustomCalendar(AbstractHolidayCalendar):\n",
    "    rules = [\n",
    "        Holiday(\"Lunar New Year's Day\", month=2, day=18),\n",
    "        Holiday(\"People Power Anniversary\", month=2, day=25),\n",
    "        Holiday(\"Maundy Thursday\", month=3, day=24),\n",
    "        Holiday(\"Good Friday\", month=3, day=25),\n",
    "        Holiday(\"National Election\", month=5, day=9)\n",
    "    ]\n",
    "    \n",
    "ph_holidays = CustomBusinessDay(calendar=myCustomCalendar())\n",
    "\n",
    "rng = pd.date_range('2016-02-01', '2016-06-30', freq=ph_holidays)\n",
    "df.index = rng\n",
    "df.index"
   ]
  },
  {
   "cell_type": "code",
   "execution_count": 6,
   "id": "a906dd00-8137-45e2-b2de-f1f24c8a84b9",
   "metadata": {},
   "outputs": [
    {
     "data": {
      "text/html": [
       "<div>\n",
       "<style scoped>\n",
       "    .dataframe tbody tr th:only-of-type {\n",
       "        vertical-align: middle;\n",
       "    }\n",
       "\n",
       "    .dataframe tbody tr th {\n",
       "        vertical-align: top;\n",
       "    }\n",
       "\n",
       "    .dataframe thead th {\n",
       "        text-align: right;\n",
       "    }\n",
       "</style>\n",
       "<table border=\"1\" class=\"dataframe\">\n",
       "  <thead>\n",
       "    <tr style=\"text-align: right;\">\n",
       "      <th></th>\n",
       "      <th>Open</th>\n",
       "      <th>High</th>\n",
       "      <th>Low</th>\n",
       "      <th>Close</th>\n",
       "      <th>Volume</th>\n",
       "    </tr>\n",
       "  </thead>\n",
       "  <tbody>\n",
       "    <tr>\n",
       "      <th>2016-06-24</th>\n",
       "      <td>235.8</td>\n",
       "      <td>235.8</td>\n",
       "      <td>231.8</td>\n",
       "      <td>235.0</td>\n",
       "      <td>752,550</td>\n",
       "    </tr>\n",
       "    <tr>\n",
       "      <th>2016-06-27</th>\n",
       "      <td>231.2</td>\n",
       "      <td>235.2</td>\n",
       "      <td>231.2</td>\n",
       "      <td>233.2</td>\n",
       "      <td>578,730</td>\n",
       "    </tr>\n",
       "    <tr>\n",
       "      <th>2016-06-28</th>\n",
       "      <td>234.0</td>\n",
       "      <td>235.2</td>\n",
       "      <td>233.6</td>\n",
       "      <td>235.0</td>\n",
       "      <td>611,860</td>\n",
       "    </tr>\n",
       "    <tr>\n",
       "      <th>2016-06-29</th>\n",
       "      <td>235.0</td>\n",
       "      <td>236.6</td>\n",
       "      <td>234.6</td>\n",
       "      <td>235.8</td>\n",
       "      <td>1,153,270</td>\n",
       "    </tr>\n",
       "    <tr>\n",
       "      <th>2016-06-30</th>\n",
       "      <td>235.8</td>\n",
       "      <td>249.4</td>\n",
       "      <td>235.8</td>\n",
       "      <td>242.0</td>\n",
       "      <td>2,444,310</td>\n",
       "    </tr>\n",
       "  </tbody>\n",
       "</table>\n",
       "</div>"
      ],
      "text/plain": [
       "             Open   High    Low  Close     Volume\n",
       "2016-06-24  235.8  235.8  231.8  235.0    752,550\n",
       "2016-06-27  231.2  235.2  231.2  233.2    578,730\n",
       "2016-06-28  234.0  235.2  233.6  235.0    611,860\n",
       "2016-06-29  235.0  236.6  234.6  235.8  1,153,270\n",
       "2016-06-30  235.8  249.4  235.8  242.0  2,444,310"
      ]
     },
     "execution_count": 6,
     "metadata": {},
     "output_type": "execute_result"
    }
   ],
   "source": [
    "df.tail()"
   ]
  },
  {
   "cell_type": "code",
   "execution_count": 7,
   "id": "397b8737-4882-4832-9e15-b7f46e007570",
   "metadata": {},
   "outputs": [
    {
     "data": {
      "text/plain": [
       "<AxesSubplot:>"
      ]
     },
     "execution_count": 7,
     "metadata": {},
     "output_type": "execute_result"
    },
    {
     "data": {
      "image/png": "[encoded data removed]",
      "text/plain": [
       "<Figure size 640x480 with 1 Axes>"
      ]
     },
     "metadata": {},
     "output_type": "display_data"
    }
   ],
   "source": [
    "df['Close'].plot.line()"
   ]
  },
  {
   "cell_type": "markdown",
   "id": "0079508e-10de-49a3-a147-6f6c691fb71a",
   "metadata": {},
   "source": [
    "Analysis:\n",
    "\n",
    "Based on the graph, the stock market of JFC has experienced overall growth from February 1 to June 30, 2016."
   ]
  }
 ],
 "metadata": {
  "kernelspec": {
   "display_name": "Python 3 (ipykernel)",
   "language": "python",
   "name": "python3"
  },
  "language_info": {
   "codemirror_mode": {
    "name": "ipython",
    "version": 3
   },
   "file_extension": ".py",
   "mimetype": "text/x-python",
   "name": "python",
   "nbconvert_exporter": "python",
   "pygments_lexer": "ipython3",
   "version": "3.9.13"
  }
 },
 "nbformat": 4,
 "nbformat_minor": 5
}
