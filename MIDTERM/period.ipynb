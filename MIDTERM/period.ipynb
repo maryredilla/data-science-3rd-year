{
 "cells": [
  {
   "cell_type": "markdown",
   "id": "289fc660-d82c-47da-adb3-73e1e0d06ff5",
   "metadata": {},
   "source": [
    "### Period"
   ]
  },
  {
   "cell_type": "code",
   "execution_count": 1,
   "id": "5c0d9756-5457-4353-88bb-0abb3300b267",
   "metadata": {},
   "outputs": [
    {
     "data": {
      "text/plain": [
       "Period('2016', 'A-DEC')"
      ]
     },
     "execution_count": 1,
     "metadata": {},
     "output_type": "execute_result"
    }
   ],
   "source": [
    "import pandas as pd\n",
    "\n",
    "# Yearly Period\n",
    "\n",
    "year = pd.Period('2016')\n",
    "year\n",
    "\n",
    "# DEC = ends in December\n",
    "# A = annual"
   ]
  },
  {
   "cell_type": "code",
   "execution_count": 2,
   "id": "656360c0-62b5-4844-b72e-1e89609c1f82",
   "metadata": {},
   "outputs": [
    {
     "data": {
      "text/plain": [
       "True"
      ]
     },
     "execution_count": 2,
     "metadata": {},
     "output_type": "execute_result"
    }
   ],
   "source": [
    "# checks if a year is a leap year\n",
    "\n",
    "year.is_leap_year"
   ]
  },
  {
   "cell_type": "code",
   "execution_count": 3,
   "id": "df965a15-2f6c-4bf8-89ff-fc400f8b73ad",
   "metadata": {},
   "outputs": [
    {
     "data": {
      "text/plain": [
       "Timestamp('2016-01-01 00:00:00')"
      ]
     },
     "execution_count": 3,
     "metadata": {},
     "output_type": "execute_result"
    }
   ],
   "source": [
    "year.start_time"
   ]
  },
  {
   "cell_type": "code",
   "execution_count": 4,
   "id": "42f08ab9-de95-49db-94b0-3fffcb1f8b26",
   "metadata": {},
   "outputs": [
    {
     "data": {
      "text/plain": [
       "Timestamp('2016-12-31 23:59:59.999999999')"
      ]
     },
     "execution_count": 4,
     "metadata": {},
     "output_type": "execute_result"
    }
   ],
   "source": [
    "year.end_time"
   ]
  },
  {
   "cell_type": "code",
   "execution_count": 5,
   "id": "12587151-13fc-48b1-b9a8-798f461b0b0a",
   "metadata": {},
   "outputs": [
    {
     "data": {
      "text/plain": [
       "Period('2017-12', 'M')"
      ]
     },
     "execution_count": 5,
     "metadata": {},
     "output_type": "execute_result"
    }
   ],
   "source": [
    "# Monthly Period\n",
    "\n",
    "monthly = pd.Period('2017-12')\n",
    "monthly"
   ]
  },
  {
   "cell_type": "code",
   "execution_count": 6,
   "id": "f7f61600-08eb-480a-a776-79735a5c6e46",
   "metadata": {},
   "outputs": [
    {
     "data": {
      "text/plain": [
       "Timestamp('2017-12-01 00:00:00')"
      ]
     },
     "execution_count": 6,
     "metadata": {},
     "output_type": "execute_result"
    }
   ],
   "source": [
    "monthly.start_time"
   ]
  },
  {
   "cell_type": "code",
   "execution_count": 7,
   "id": "f574f2a6-b9e6-46b0-a66c-baa0791cb885",
   "metadata": {},
   "outputs": [
    {
     "data": {
      "text/plain": [
       "Timestamp('2017-12-31 23:59:59.999999999')"
      ]
     },
     "execution_count": 7,
     "metadata": {},
     "output_type": "execute_result"
    }
   ],
   "source": [
    "monthly.end_time"
   ]
  },
  {
   "cell_type": "code",
   "execution_count": 8,
   "id": "996286b3-c82d-4f53-8c8d-6fa281ee79c8",
   "metadata": {},
   "outputs": [
    {
     "data": {
      "text/plain": [
       "Period('2018-01', 'M')"
      ]
     },
     "execution_count": 8,
     "metadata": {},
     "output_type": "execute_result"
    }
   ],
   "source": [
    "monthly + 1"
   ]
  },
  {
   "cell_type": "code",
   "execution_count": 9,
   "id": "7446e054-88fc-4ac0-b216-ba78c3d7fb2d",
   "metadata": {},
   "outputs": [
    {
     "data": {
      "text/plain": [
       "Period('2016-02-28', 'D')"
      ]
     },
     "execution_count": 9,
     "metadata": {},
     "output_type": "execute_result"
    }
   ],
   "source": [
    "daily = pd.Period('2016-02-28', freq='D')\n",
    "daily"
   ]
  },
  {
   "cell_type": "code",
   "execution_count": 10,
   "id": "12568b0e-d651-496c-88df-939091f2b8de",
   "metadata": {},
   "outputs": [
    {
     "data": {
      "text/plain": [
       "Timestamp('2016-02-28 00:00:00')"
      ]
     },
     "execution_count": 10,
     "metadata": {},
     "output_type": "execute_result"
    }
   ],
   "source": [
    "daily.start_time"
   ]
  },
  {
   "cell_type": "code",
   "execution_count": 11,
   "id": "3f7615c0-b548-4bac-bd72-b4e8aa19f261",
   "metadata": {},
   "outputs": [
    {
     "data": {
      "text/plain": [
       "Timestamp('2016-02-28 23:59:59.999999999')"
      ]
     },
     "execution_count": 11,
     "metadata": {},
     "output_type": "execute_result"
    }
   ],
   "source": [
    "daily.end_time"
   ]
  },
  {
   "cell_type": "code",
   "execution_count": 12,
   "id": "26001c01-9abd-40b1-8ba8-0b2a1db707e6",
   "metadata": {},
   "outputs": [
    {
     "data": {
      "text/plain": [
       "Period('2016-02-29', 'D')"
      ]
     },
     "execution_count": 12,
     "metadata": {},
     "output_type": "execute_result"
    }
   ],
   "source": [
    "daily + 1"
   ]
  },
  {
   "cell_type": "code",
   "execution_count": 14,
   "id": "9a036708-94a4-4cd7-a463-a1277e69a681",
   "metadata": {},
   "outputs": [
    {
     "data": {
      "text/plain": [
       "Period('2016-02-28 23:00', 'H')"
      ]
     },
     "execution_count": 14,
     "metadata": {},
     "output_type": "execute_result"
    }
   ],
   "source": [
    "hourly = pd.Period('2016-02-28 23:00:00', freq='H')\n",
    "hourly"
   ]
  },
  {
   "cell_type": "code",
   "execution_count": 15,
   "id": "82963a7e-dae1-4edb-973a-c936ffd1a31e",
   "metadata": {},
   "outputs": [
    {
     "data": {
      "text/plain": [
       "Period('2016-02-29 00:00', 'H')"
      ]
     },
     "execution_count": 15,
     "metadata": {},
     "output_type": "execute_result"
    }
   ],
   "source": [
    "hourly + 1"
   ]
  },
  {
   "cell_type": "code",
   "execution_count": 16,
   "id": "557ebd4c-366d-495f-a49b-ce0e66ef7629",
   "metadata": {},
   "outputs": [
    {
     "data": {
      "text/plain": [
       "Period('2017Q1', 'Q-JAN')"
      ]
     },
     "execution_count": 16,
     "metadata": {},
     "output_type": "execute_result"
    }
   ],
   "source": [
    "# ends in January\n",
    "\n",
    "quarter1 = pd.Period('2017Q1', freq='Q-JAN')\n",
    "quarter1"
   ]
  },
  {
   "cell_type": "code",
   "execution_count": 17,
   "id": "15bc309e-aaae-4766-8adc-dff55da5cb72",
   "metadata": {},
   "outputs": [
    {
     "data": {
      "text/plain": [
       "Timestamp('2016-02-01 00:00:00')"
      ]
     },
     "execution_count": 17,
     "metadata": {},
     "output_type": "execute_result"
    }
   ],
   "source": [
    "quarter1.start_time"
   ]
  },
  {
   "cell_type": "code",
   "execution_count": 18,
   "id": "800860ef-766a-4457-a4ea-1b5fc0672ddf",
   "metadata": {},
   "outputs": [
    {
     "data": {
      "text/plain": [
       "Timestamp('2016-04-30 23:59:59.999999999')"
      ]
     },
     "execution_count": 18,
     "metadata": {},
     "output_type": "execute_result"
    }
   ],
   "source": [
    "quarter1.end_time"
   ]
  }
 ],
 "metadata": {
  "kernelspec": {
   "display_name": "Python 3 (ipykernel)",
   "language": "python",
   "name": "python3"
  },
  "language_info": {
   "codemirror_mode": {
    "name": "ipython",
    "version": 3
   },
   "file_extension": ".py",
   "mimetype": "text/x-python",
   "name": "python",
   "nbconvert_exporter": "python",
   "pygments_lexer": "ipython3",
   "version": "3.9.13"
  }
 },
 "nbformat": 4,
 "nbformat_minor": 5
}
