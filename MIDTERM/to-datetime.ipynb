{
 "cells": [
  {
   "cell_type": "markdown",
   "id": "67c4a5bd-2eca-4a4e-8d75-cdb8fa4c1e66",
   "metadata": {},
   "source": [
    "### To DateTime"
   ]
  },
  {
   "cell_type": "markdown",
   "id": "5eed23ce-2b53-42c4-a350-46dbd694c5da",
   "metadata": {},
   "source": [
    "objective: use pandas to convert different date formats to datetime type"
   ]
  },
  {
   "cell_type": "code",
   "execution_count": 5,
   "id": "4097d9b0-bbf9-48ee-bf9a-3d725339afff",
   "metadata": {},
   "outputs": [
    {
     "data": {
      "text/plain": [
       "['2017-01-05',\n",
       " 'Jan 5, 2017',\n",
       " '01/05/2017',\n",
       " '2017.01.05',\n",
       " '2017/01/05',\n",
       " '20170105']"
      ]
     },
     "execution_count": 5,
     "metadata": {},
     "output_type": "execute_result"
    }
   ],
   "source": [
    "import pandas as pd\n",
    "\n",
    "# same date but in different format\n",
    "dates = ['2017-01-05', 'Jan 5, 2017', '01/05/2017', '2017.01.05', '2017/01/05', '20170105']\n",
    "dates"
   ]
  },
  {
   "cell_type": "code",
   "execution_count": 6,
   "id": "53d3e40f-06cc-4bee-98f9-2fa2d4608cca",
   "metadata": {},
   "outputs": [
    {
     "data": {
      "text/plain": [
       "DatetimeIndex(['2017-01-05', '2017-01-05', '2017-01-05', '2017-01-05',\n",
       "               '2017-01-05', '2017-01-05'],\n",
       "              dtype='datetime64[ns]', freq=None)"
      ]
     },
     "execution_count": 6,
     "metadata": {},
     "output_type": "execute_result"
    }
   ],
   "source": [
    "# use pandas to_datetime function to convert dates to datetime type\n",
    "\n",
    "pd.to_datetime(dates)"
   ]
  },
  {
   "cell_type": "code",
   "execution_count": 10,
   "id": "558c000d-06bd-4a9a-bc7a-549a2ac95f83",
   "metadata": {},
   "outputs": [
    {
     "data": {
      "text/plain": [
       "DatetimeIndex(['2017-01-05 14:30:00', '2017-01-05 14:30:00',\n",
       "               '2017-01-05 00:00:00', '2017-01-05 00:00:00',\n",
       "               '2017-01-05 00:00:00', '2017-01-05 00:00:00'],\n",
       "              dtype='datetime64[ns]', freq=None)"
      ]
     },
     "execution_count": 10,
     "metadata": {},
     "output_type": "execute_result"
    }
   ],
   "source": [
    "# date and time\n",
    "\n",
    "date_time = ['2017-01-05 2:30:00 PM', 'Jan 5, 2017 14:30:00', '01/05/2017', '2017.01.05', '2017/01/05', '20170105']\n",
    "\n",
    "pd.to_datetime(date_time)"
   ]
  },
  {
   "cell_type": "code",
   "execution_count": 11,
   "id": "7dc6ccf0-9731-4a68-b212-3ab2fb439ceb",
   "metadata": {},
   "outputs": [
    {
     "name": "stderr",
     "output_type": "stream",
     "text": [
      "C:\\Users\\maryr\\AppData\\Local\\Temp\\ipykernel_4248\\366597259.py:3: UserWarning: Parsing '30-12-2016' in DD/MM/YYYY format. Provide format or specify infer_datetime_format=True for consistent parsing.\n",
      "  pd.to_datetime('30-12-2016')\n"
     ]
    },
    {
     "data": {
      "text/plain": [
       "Timestamp('2016-12-30 00:00:00')"
      ]
     },
     "execution_count": 11,
     "metadata": {},
     "output_type": "execute_result"
    }
   ],
   "source": [
    "# eu date and time format\n",
    "\n",
    "pd.to_datetime('30-12-2016')"
   ]
  },
  {
   "cell_type": "code",
   "execution_count": 12,
   "id": "abdb6a91-9f1a-4d79-b4d5-96e75165ed8c",
   "metadata": {},
   "outputs": [
    {
     "data": {
      "text/plain": [
       "Timestamp('2016-01-05 00:00:00')"
      ]
     },
     "execution_count": 12,
     "metadata": {},
     "output_type": "execute_result"
    }
   ],
   "source": [
    "# to avoid confusion between the day and month\n",
    "\n",
    "pd.to_datetime('5-1-2016', dayfirst=True)"
   ]
  },
  {
   "cell_type": "code",
   "execution_count": 18,
   "id": "6fe4aec9-98da-4d65-a3a1-ca83682efa16",
   "metadata": {},
   "outputs": [
    {
     "data": {
      "text/plain": [
       "Timestamp('2016-01-05 00:00:00')"
      ]
     },
     "execution_count": 18,
     "metadata": {},
     "output_type": "execute_result"
    }
   ],
   "source": [
    "# custom format 01#05#2016\n",
    "# placeholder  - %\n",
    "\n",
    "pd.to_datetime('2016#01#05', format='%Y#%m#%d')"
   ]
  },
  {
   "cell_type": "code",
   "execution_count": 17,
   "id": "cc5f8b1d-8c44-4128-b199-226fb0b08be3",
   "metadata": {},
   "outputs": [
    {
     "data": {
      "text/plain": [
       "Timestamp('2016-01-05 00:00:00')"
      ]
     },
     "execution_count": 17,
     "metadata": {},
     "output_type": "execute_result"
    }
   ],
   "source": [
    "# custom format 01$05$2016\n",
    "# placeholder  - %\n",
    "\n",
    "pd.to_datetime('2016$01$05', format='%Y$%m$%d')"
   ]
  },
  {
   "cell_type": "code",
   "execution_count": 19,
   "id": "d93064a2-26f0-4950-b899-74c0aa273c22",
   "metadata": {},
   "outputs": [
    {
     "data": {
      "text/plain": [
       "Index(['2017-01-05', 'Jan 6, 2017', 'abc'], dtype='object')"
      ]
     },
     "execution_count": 19,
     "metadata": {},
     "output_type": "execute_result"
    }
   ],
   "source": [
    "# handling invalid dates\n",
    "\n",
    "pd.to_datetime(['2017-01-05', 'Jan 6, 2017', 'abc'], errors='ignore')"
   ]
  },
  {
   "cell_type": "code",
   "execution_count": 20,
   "id": "aa5790e8-e6e1-4f98-99cc-b1db5d7d6e8f",
   "metadata": {},
   "outputs": [
    {
     "data": {
      "text/plain": [
       "DatetimeIndex(['2017-01-05', '2017-01-06', 'NaT'], dtype='datetime64[ns]', freq=None)"
      ]
     },
     "execution_count": 20,
     "metadata": {},
     "output_type": "execute_result"
    }
   ],
   "source": [
    "# handling invalid dates using coerce in errors\n",
    "\n",
    "pd.to_datetime(['2017-01-05', 'Jan 6, 2017', 'abc'], errors='coerce')"
   ]
  },
  {
   "cell_type": "code",
   "execution_count": 25,
   "id": "58141224-6ced-414d-9f94-1a8c15868ae1",
   "metadata": {},
   "outputs": [
    {
     "data": {
      "text/plain": [
       "Timestamp('2023-03-06 01:53:03')"
      ]
     },
     "execution_count": 25,
     "metadata": {},
     "output_type": "execute_result"
    }
   ],
   "source": [
    "# unix time\n",
    "# https://www.epochconverter.com/\n",
    "\n",
    "epoch_2017 = 1483581055\n",
    "epoch_current = 1678067583\n",
    "\n",
    "pd.to_datetime(epoch_current, unit='s')"
   ]
  },
  {
   "cell_type": "code",
   "execution_count": 27,
   "id": "55518cb1-743d-4670-9cbd-65526b5d7df3",
   "metadata": {},
   "outputs": [
    {
     "data": {
      "text/plain": [
       "Timestamp('2023-03-06 01:53:03')"
      ]
     },
     "execution_count": 27,
     "metadata": {},
     "output_type": "execute_result"
    }
   ],
   "source": [
    "# unit is in millisecond\n",
    "\n",
    "pd.to_datetime(epoch_current*1000, unit='ms')"
   ]
  },
  {
   "cell_type": "code",
   "execution_count": 29,
   "id": "c4d70cdd-69ae-4c7a-8257-62e38d1d521b",
   "metadata": {},
   "outputs": [
    {
     "data": {
      "text/plain": [
       "DatetimeIndex(['2023-03-06 01:53:03'], dtype='datetime64[ns]', freq=None)"
      ]
     },
     "execution_count": 29,
     "metadata": {},
     "output_type": "execute_result"
    }
   ],
   "source": [
    "# datetime instead of timestamp\n",
    "\n",
    "time = pd.to_datetime([epoch_current], unit='s')\n",
    "time"
   ]
  }
 ],
 "metadata": {
  "kernelspec": {
   "display_name": "Python 3 (ipykernel)",
   "language": "python",
   "name": "python3"
  },
  "language_info": {
   "codemirror_mode": {
    "name": "ipython",
    "version": 3
   },
   "file_extension": ".py",
   "mimetype": "text/x-python",
   "name": "python",
   "nbconvert_exporter": "python",
   "pygments_lexer": "ipython3",
   "version": "3.9.13"
  }
 },
 "nbformat": 4,
 "nbformat_minor": 5
}
