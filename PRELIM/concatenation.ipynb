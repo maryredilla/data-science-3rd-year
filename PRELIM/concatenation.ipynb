{
 "cells": [
  {
   "cell_type": "code",
   "execution_count": 1,
   "id": "cb293de6",
   "metadata": {},
   "outputs": [
    {
     "data": {
      "text/html": [
       "<div>\n",
       "<style scoped>\n",
       "    .dataframe tbody tr th:only-of-type {\n",
       "        vertical-align: middle;\n",
       "    }\n",
       "\n",
       "    .dataframe tbody tr th {\n",
       "        vertical-align: top;\n",
       "    }\n",
       "\n",
       "    .dataframe thead th {\n",
       "        text-align: right;\n",
       "    }\n",
       "</style>\n",
       "<table border=\"1\" class=\"dataframe\">\n",
       "  <thead>\n",
       "    <tr style=\"text-align: right;\">\n",
       "      <th></th>\n",
       "      <th>city</th>\n",
       "      <th>temperature</th>\n",
       "      <th>humidity</th>\n",
       "    </tr>\n",
       "  </thead>\n",
       "  <tbody>\n",
       "    <tr>\n",
       "      <th>0</th>\n",
       "      <td>Cebu</td>\n",
       "      <td>29</td>\n",
       "      <td>80</td>\n",
       "    </tr>\n",
       "    <tr>\n",
       "      <th>1</th>\n",
       "      <td>Manila</td>\n",
       "      <td>35</td>\n",
       "      <td>60</td>\n",
       "    </tr>\n",
       "    <tr>\n",
       "      <th>2</th>\n",
       "      <td>QC</td>\n",
       "      <td>31</td>\n",
       "      <td>78</td>\n",
       "    </tr>\n",
       "  </tbody>\n",
       "</table>\n",
       "</div>"
      ],
      "text/plain": [
       "     city  temperature  humidity\n",
       "0    Cebu           29        80\n",
       "1  Manila           35        60\n",
       "2      QC           31        78"
      ]
     },
     "execution_count": 1,
     "metadata": {},
     "output_type": "execute_result"
    }
   ],
   "source": [
    "# concat in data frames\n",
    "import pandas as pd\n",
    "\n",
    "ph_weather = pd.DataFrame({\n",
    "    \"city\": [\"Cebu\", \"Manila\", \"QC\" ],\n",
    "    \"temperature\": [29, 35, 31],\n",
    "    \"humidity\": [80, 60, 78],\n",
    "})\n",
    "\n",
    "ph_weather"
   ]
  },
  {
   "cell_type": "code",
   "execution_count": 2,
   "id": "da8a6759",
   "metadata": {},
   "outputs": [
    {
     "data": {
      "text/html": [
       "<div>\n",
       "<style scoped>\n",
       "    .dataframe tbody tr th:only-of-type {\n",
       "        vertical-align: middle;\n",
       "    }\n",
       "\n",
       "    .dataframe tbody tr th {\n",
       "        vertical-align: top;\n",
       "    }\n",
       "\n",
       "    .dataframe thead th {\n",
       "        text-align: right;\n",
       "    }\n",
       "</style>\n",
       "<table border=\"1\" class=\"dataframe\">\n",
       "  <thead>\n",
       "    <tr style=\"text-align: right;\">\n",
       "      <th></th>\n",
       "      <th>city</th>\n",
       "      <th>temperature</th>\n",
       "      <th>humidity</th>\n",
       "    </tr>\n",
       "  </thead>\n",
       "  <tbody>\n",
       "    <tr>\n",
       "      <th>0</th>\n",
       "      <td>NYC</td>\n",
       "      <td>21</td>\n",
       "      <td>62</td>\n",
       "    </tr>\n",
       "    <tr>\n",
       "      <th>1</th>\n",
       "      <td>LA</td>\n",
       "      <td>35</td>\n",
       "      <td>63</td>\n",
       "    </tr>\n",
       "    <tr>\n",
       "      <th>2</th>\n",
       "      <td>CHI</td>\n",
       "      <td>14</td>\n",
       "      <td>75</td>\n",
       "    </tr>\n",
       "  </tbody>\n",
       "</table>\n",
       "</div>"
      ],
      "text/plain": [
       "  city  temperature  humidity\n",
       "0  NYC           21        62\n",
       "1   LA           35        63\n",
       "2  CHI           14        75"
      ]
     },
     "execution_count": 2,
     "metadata": {},
     "output_type": "execute_result"
    }
   ],
   "source": [
    "# concat in data frames\n",
    "import pandas as pd\n",
    "\n",
    "us_weather = pd.DataFrame({\n",
    "    \"city\": [\"NYC\", \"LA\", \"CHI\" ],\n",
    "    \"temperature\": [21, 35, 14],\n",
    "    \"humidity\": [62, 63, 75],\n",
    "})\n",
    "\n",
    "us_weather"
   ]
  },
  {
   "cell_type": "code",
   "execution_count": 5,
   "id": "b56bbee7",
   "metadata": {},
   "outputs": [
    {
     "data": {
      "text/html": [
       "<div>\n",
       "<style scoped>\n",
       "    .dataframe tbody tr th:only-of-type {\n",
       "        vertical-align: middle;\n",
       "    }\n",
       "\n",
       "    .dataframe tbody tr th {\n",
       "        vertical-align: top;\n",
       "    }\n",
       "\n",
       "    .dataframe thead th {\n",
       "        text-align: right;\n",
       "    }\n",
       "</style>\n",
       "<table border=\"1\" class=\"dataframe\">\n",
       "  <thead>\n",
       "    <tr style=\"text-align: right;\">\n",
       "      <th></th>\n",
       "      <th>city</th>\n",
       "      <th>temperature</th>\n",
       "      <th>humidity</th>\n",
       "    </tr>\n",
       "  </thead>\n",
       "  <tbody>\n",
       "    <tr>\n",
       "      <th>0</th>\n",
       "      <td>Cebu</td>\n",
       "      <td>29</td>\n",
       "      <td>80</td>\n",
       "    </tr>\n",
       "    <tr>\n",
       "      <th>1</th>\n",
       "      <td>Manila</td>\n",
       "      <td>35</td>\n",
       "      <td>60</td>\n",
       "    </tr>\n",
       "    <tr>\n",
       "      <th>2</th>\n",
       "      <td>QC</td>\n",
       "      <td>31</td>\n",
       "      <td>78</td>\n",
       "    </tr>\n",
       "    <tr>\n",
       "      <th>0</th>\n",
       "      <td>NYC</td>\n",
       "      <td>21</td>\n",
       "      <td>62</td>\n",
       "    </tr>\n",
       "    <tr>\n",
       "      <th>1</th>\n",
       "      <td>LA</td>\n",
       "      <td>35</td>\n",
       "      <td>63</td>\n",
       "    </tr>\n",
       "    <tr>\n",
       "      <th>2</th>\n",
       "      <td>CHI</td>\n",
       "      <td>14</td>\n",
       "      <td>75</td>\n",
       "    </tr>\n",
       "  </tbody>\n",
       "</table>\n",
       "</div>"
      ],
      "text/plain": [
       "     city  temperature  humidity\n",
       "0    Cebu           29        80\n",
       "1  Manila           35        60\n",
       "2      QC           31        78\n",
       "0     NYC           21        62\n",
       "1      LA           35        63\n",
       "2     CHI           14        75"
      ]
     },
     "execution_count": 5,
     "metadata": {},
     "output_type": "execute_result"
    }
   ],
   "source": [
    "df = pd.concat([ph_weather,us_weather])\n",
    "df"
   ]
  },
  {
   "cell_type": "code",
   "execution_count": 6,
   "id": "fb37ce1f",
   "metadata": {},
   "outputs": [
    {
     "data": {
      "text/html": [
       "<div>\n",
       "<style scoped>\n",
       "    .dataframe tbody tr th:only-of-type {\n",
       "        vertical-align: middle;\n",
       "    }\n",
       "\n",
       "    .dataframe tbody tr th {\n",
       "        vertical-align: top;\n",
       "    }\n",
       "\n",
       "    .dataframe thead th {\n",
       "        text-align: right;\n",
       "    }\n",
       "</style>\n",
       "<table border=\"1\" class=\"dataframe\">\n",
       "  <thead>\n",
       "    <tr style=\"text-align: right;\">\n",
       "      <th></th>\n",
       "      <th>city</th>\n",
       "      <th>temperature</th>\n",
       "      <th>humidity</th>\n",
       "    </tr>\n",
       "  </thead>\n",
       "  <tbody>\n",
       "    <tr>\n",
       "      <th>0</th>\n",
       "      <td>Cebu</td>\n",
       "      <td>29</td>\n",
       "      <td>80</td>\n",
       "    </tr>\n",
       "    <tr>\n",
       "      <th>1</th>\n",
       "      <td>Manila</td>\n",
       "      <td>35</td>\n",
       "      <td>60</td>\n",
       "    </tr>\n",
       "    <tr>\n",
       "      <th>2</th>\n",
       "      <td>QC</td>\n",
       "      <td>31</td>\n",
       "      <td>78</td>\n",
       "    </tr>\n",
       "    <tr>\n",
       "      <th>3</th>\n",
       "      <td>NYC</td>\n",
       "      <td>21</td>\n",
       "      <td>62</td>\n",
       "    </tr>\n",
       "    <tr>\n",
       "      <th>4</th>\n",
       "      <td>LA</td>\n",
       "      <td>35</td>\n",
       "      <td>63</td>\n",
       "    </tr>\n",
       "    <tr>\n",
       "      <th>5</th>\n",
       "      <td>CHI</td>\n",
       "      <td>14</td>\n",
       "      <td>75</td>\n",
       "    </tr>\n",
       "  </tbody>\n",
       "</table>\n",
       "</div>"
      ],
      "text/plain": [
       "     city  temperature  humidity\n",
       "0    Cebu           29        80\n",
       "1  Manila           35        60\n",
       "2      QC           31        78\n",
       "3     NYC           21        62\n",
       "4      LA           35        63\n",
       "5     CHI           14        75"
      ]
     },
     "execution_count": 6,
     "metadata": {},
     "output_type": "execute_result"
    }
   ],
   "source": [
    "df = pd.concat([ph_weather,us_weather], ignore_index=True)\n",
    "df"
   ]
  },
  {
   "cell_type": "code",
   "execution_count": null,
   "id": "9882ed75",
   "metadata": {},
   "outputs": [],
   "source": [
    "df = pd.concat([ph_weather,us_weather], keys=[\"ph\", \"us\"])\n",
    "df"
   ]
  },
  {
   "cell_type": "code",
   "execution_count": null,
   "id": "e5a5180b",
   "metadata": {},
   "outputs": [],
   "source": [
    "df.loc[\"us\"]"
   ]
  },
  {
   "cell_type": "code",
   "execution_count": null,
   "id": "258fd5e6",
   "metadata": {},
   "outputs": [],
   "source": [
    "df.loc[\"us\"]"
   ]
  },
  {
   "cell_type": "code",
   "execution_count": null,
   "id": "2c3aa01a",
   "metadata": {},
   "outputs": [],
   "source": [
    "temperature_df = pd.DataFrame({\n",
    "    \"city\": [\"NYC\", \"LA\", \"CHI\" ],\n",
    "    \"temperature\": [21, 35, 14],\n",
    "}, index=[0,1,2])\n",
    "\n",
    "temperature_df"
   ]
  },
  {
   "cell_type": "code",
   "execution_count": null,
   "id": "38cb4c48",
   "metadata": {},
   "outputs": [],
   "source": [
    "windspeed_df = pd.DataFrame({\n",
    "    \"city\": [\"NYC\", \"LA\"],\n",
    "    \"windspeed\": [7, 15],\n",
    "}, index=[1,0])\n",
    "\n",
    "windspeed_df"
   ]
  },
  {
   "cell_type": "code",
   "execution_count": null,
   "id": "70976987",
   "metadata": {},
   "outputs": [],
   "source": [
    "df = pd.concat([temperature_df, windspeed_df.windspeed], axis=1)\n",
    "df"
   ]
  },
  {
   "cell_type": "code",
   "execution_count": null,
   "id": "2e492fe4",
   "metadata": {},
   "outputs": [],
   "source": [
    "series_con = pd.Series([\"Dry\", \"Humid\", \"Rain\"], name=\"event\")\n",
    "series_con"
   ]
  },
  {
   "cell_type": "code",
   "execution_count": null,
   "id": "618d5bac",
   "metadata": {},
   "outputs": [],
   "source": [
    "df = pd.concat([temperature_df, series_con], axis=1)\n",
    "df"
   ]
  },
  {
   "cell_type": "code",
   "execution_count": null,
   "id": "e5302db6",
   "metadata": {},
   "outputs": [],
   "source": []
  }
 ],
 "metadata": {
  "kernelspec": {
   "display_name": "Python 3 (ipykernel)",
   "language": "python",
   "name": "python3"
  },
  "language_info": {
   "codemirror_mode": {
    "name": "ipython",
    "version": 3
   },
   "file_extension": ".py",
   "mimetype": "text/x-python",
   "name": "python",
   "nbconvert_exporter": "python",
   "pygments_lexer": "ipython3",
   "version": "3.9.13"
  }
 },
 "nbformat": 4,
 "nbformat_minor": 5
}
